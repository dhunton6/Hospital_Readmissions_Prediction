{
 "cells": [
  {
   "cell_type": "code",
   "execution_count": 1,
   "metadata": {},
   "outputs": [
    {
     "name": "stderr",
     "output_type": "stream",
     "text": [
      "Loading required package: lattice\n",
      "Warning message:\n",
      "\"package 'lattice' was built under R version 3.6.3\"Loading required package: ggplot2\n",
      "Warning message:\n",
      "\"package 'ggplot2' was built under R version 3.6.3\""
     ]
    },
    {
     "data": {
      "text/html": [
       "<table>\n",
       "<thead><tr><th scope=col>encounter_id</th><th scope=col>patient_nbr</th><th scope=col>race</th><th scope=col>gender</th><th scope=col>age</th><th scope=col>weight</th><th scope=col>admission_type_id</th><th scope=col>discharge_disposition_id</th><th scope=col>admission_source_id</th><th scope=col>time_in_hospital</th><th scope=col>...</th><th scope=col>citoglipton</th><th scope=col>insulin</th><th scope=col>glyburide.metformin</th><th scope=col>glipizide.metformin</th><th scope=col>glimepiride.pioglitazone</th><th scope=col>metformin.rosiglitazone</th><th scope=col>metformin.pioglitazone</th><th scope=col>change</th><th scope=col>diabetesMed</th><th scope=col>readmitted</th></tr></thead>\n",
       "<tbody>\n",
       "\t<tr><td>2278392        </td><td> 8222157       </td><td>Caucasian      </td><td>Female         </td><td>[0-10)         </td><td>NA             </td><td>6              </td><td>25             </td><td>1              </td><td>1              </td><td>...            </td><td>No             </td><td>No             </td><td>No             </td><td>No             </td><td>No             </td><td>No             </td><td>No             </td><td>No             </td><td>No             </td><td>NO             </td></tr>\n",
       "\t<tr><td> 149190                                                </td><td>55629189                                               </td><td><span style=white-space:pre-wrap>Caucasian      </span></td><td>Female                                                 </td><td>[10-20)                                                </td><td>NA                                                     </td><td>1                                                      </td><td> 1                                                     </td><td>7                                                      </td><td>3                                                      </td><td>...                                                    </td><td>No                                                     </td><td><span style=white-space:pre-wrap>Up    </span>         </td><td>No                                                     </td><td>No                                                     </td><td>No                                                     </td><td>No                                                     </td><td>No                                                     </td><td>Ch                                                     </td><td>Yes                                                    </td><td>&gt;30                                                 </td></tr>\n",
       "\t<tr><td>  64410        </td><td>86047875       </td><td>AfricanAmerican</td><td>Female         </td><td>[20-30)        </td><td>NA             </td><td>1              </td><td> 1             </td><td>7              </td><td>2              </td><td>...            </td><td>No             </td><td>No             </td><td>No             </td><td>No             </td><td>No             </td><td>No             </td><td>No             </td><td>No             </td><td>Yes            </td><td>NO             </td></tr>\n",
       "\t<tr><td> 500364        </td><td>82442376       </td><td>Caucasian      </td><td>Male           </td><td>[30-40)        </td><td>NA             </td><td>1              </td><td> 1             </td><td>7              </td><td>2              </td><td>...            </td><td>No             </td><td>Up             </td><td>No             </td><td>No             </td><td>No             </td><td>No             </td><td>No             </td><td>Ch             </td><td>Yes            </td><td>NO             </td></tr>\n",
       "\t<tr><td>  16680        </td><td>42519267       </td><td>Caucasian      </td><td>Male           </td><td>[40-50)        </td><td>NA             </td><td>1              </td><td> 1             </td><td>7              </td><td>1              </td><td>...            </td><td>No             </td><td>Steady         </td><td>No             </td><td>No             </td><td>No             </td><td>No             </td><td>No             </td><td>Ch             </td><td>Yes            </td><td>NO             </td></tr>\n",
       "\t<tr><td><span style=white-space:pre-wrap>  35754</span>        </td><td>82637451                                               </td><td><span style=white-space:pre-wrap>Caucasian      </span></td><td><span style=white-space:pre-wrap>Male  </span>         </td><td>[50-60)                                                </td><td>NA                                                     </td><td>2                                                      </td><td> 1                                                     </td><td>2                                                      </td><td>3                                                      </td><td>...                                                    </td><td>No                                                     </td><td>Steady                                                 </td><td>No                                                     </td><td>No                                                     </td><td>No                                                     </td><td>No                                                     </td><td>No                                                     </td><td>No                                                     </td><td>Yes                                                    </td><td>&gt;30                                                 </td></tr>\n",
       "</tbody>\n",
       "</table>\n"
      ],
      "text/latex": [
       "\\begin{tabular}{r|llllllllllllllllllllllllllllllllllllllllllllllllll}\n",
       " encounter\\_id & patient\\_nbr & race & gender & age & weight & admission\\_type\\_id & discharge\\_disposition\\_id & admission\\_source\\_id & time\\_in\\_hospital & ... & citoglipton & insulin & glyburide.metformin & glipizide.metformin & glimepiride.pioglitazone & metformin.rosiglitazone & metformin.pioglitazone & change & diabetesMed & readmitted\\\\\n",
       "\\hline\n",
       "\t 2278392         &  8222157        & Caucasian       & Female          & {[}0-10)        & NA              & 6               & 25              & 1               & 1               & ...             & No              & No              & No              & No              & No              & No              & No              & No              & No              & NO             \\\\\n",
       "\t  149190         & 55629189        & Caucasian       & Female          & {[}10-20)       & NA              & 1               &  1              & 7               & 3               & ...             & No              & Up              & No              & No              & No              & No              & No              & Ch              & Yes             & >30            \\\\\n",
       "\t   64410         & 86047875        & AfricanAmerican & Female          & {[}20-30)       & NA              & 1               &  1              & 7               & 2               & ...             & No              & No              & No              & No              & No              & No              & No              & No              & Yes             & NO             \\\\\n",
       "\t  500364         & 82442376        & Caucasian       & Male            & {[}30-40)       & NA              & 1               &  1              & 7               & 2               & ...             & No              & Up              & No              & No              & No              & No              & No              & Ch              & Yes             & NO             \\\\\n",
       "\t   16680         & 42519267        & Caucasian       & Male            & {[}40-50)       & NA              & 1               &  1              & 7               & 1               & ...             & No              & Steady          & No              & No              & No              & No              & No              & Ch              & Yes             & NO             \\\\\n",
       "\t   35754         & 82637451        & Caucasian       & Male            & {[}50-60)       & NA              & 2               &  1              & 2               & 3               & ...             & No              & Steady          & No              & No              & No              & No              & No              & No              & Yes             & >30            \\\\\n",
       "\\end{tabular}\n"
      ],
      "text/markdown": [
       "\n",
       "| encounter_id | patient_nbr | race | gender | age | weight | admission_type_id | discharge_disposition_id | admission_source_id | time_in_hospital | ... | citoglipton | insulin | glyburide.metformin | glipizide.metformin | glimepiride.pioglitazone | metformin.rosiglitazone | metformin.pioglitazone | change | diabetesMed | readmitted |\n",
       "|---|---|---|---|---|---|---|---|---|---|---|---|---|---|---|---|---|---|---|---|---|\n",
       "| 2278392         |  8222157        | Caucasian       | Female          | [0-10)          | NA              | 6               | 25              | 1               | 1               | ...             | No              | No              | No              | No              | No              | No              | No              | No              | No              | NO              |\n",
       "|  149190         | 55629189        | Caucasian       | Female          | [10-20)         | NA              | 1               |  1              | 7               | 3               | ...             | No              | Up              | No              | No              | No              | No              | No              | Ch              | Yes             | >30             |\n",
       "|   64410         | 86047875        | AfricanAmerican | Female          | [20-30)         | NA              | 1               |  1              | 7               | 2               | ...             | No              | No              | No              | No              | No              | No              | No              | No              | Yes             | NO              |\n",
       "|  500364         | 82442376        | Caucasian       | Male            | [30-40)         | NA              | 1               |  1              | 7               | 2               | ...             | No              | Up              | No              | No              | No              | No              | No              | Ch              | Yes             | NO              |\n",
       "|   16680         | 42519267        | Caucasian       | Male            | [40-50)         | NA              | 1               |  1              | 7               | 1               | ...             | No              | Steady          | No              | No              | No              | No              | No              | Ch              | Yes             | NO              |\n",
       "|   35754         | 82637451        | Caucasian       | Male            | [50-60)         | NA              | 2               |  1              | 2               | 3               | ...             | No              | Steady          | No              | No              | No              | No              | No              | No              | Yes             | >30             |\n",
       "\n"
      ],
      "text/plain": [
       "  encounter_id patient_nbr race            gender age     weight\n",
       "1 2278392       8222157    Caucasian       Female [0-10)  NA    \n",
       "2  149190      55629189    Caucasian       Female [10-20) NA    \n",
       "3   64410      86047875    AfricanAmerican Female [20-30) NA    \n",
       "4  500364      82442376    Caucasian       Male   [30-40) NA    \n",
       "5   16680      42519267    Caucasian       Male   [40-50) NA    \n",
       "6   35754      82637451    Caucasian       Male   [50-60) NA    \n",
       "  admission_type_id discharge_disposition_id admission_source_id\n",
       "1 6                 25                       1                  \n",
       "2 1                  1                       7                  \n",
       "3 1                  1                       7                  \n",
       "4 1                  1                       7                  \n",
       "5 1                  1                       7                  \n",
       "6 2                  1                       2                  \n",
       "  time_in_hospital ... citoglipton insulin glyburide.metformin\n",
       "1 1                ... No          No      No                 \n",
       "2 3                ... No          Up      No                 \n",
       "3 2                ... No          No      No                 \n",
       "4 2                ... No          Up      No                 \n",
       "5 1                ... No          Steady  No                 \n",
       "6 3                ... No          Steady  No                 \n",
       "  glipizide.metformin glimepiride.pioglitazone metformin.rosiglitazone\n",
       "1 No                  No                       No                     \n",
       "2 No                  No                       No                     \n",
       "3 No                  No                       No                     \n",
       "4 No                  No                       No                     \n",
       "5 No                  No                       No                     \n",
       "6 No                  No                       No                     \n",
       "  metformin.pioglitazone change diabetesMed readmitted\n",
       "1 No                     No     No          NO        \n",
       "2 No                     Ch     Yes         >30       \n",
       "3 No                     No     Yes         NO        \n",
       "4 No                     Ch     Yes         NO        \n",
       "5 No                     Ch     Yes         NO        \n",
       "6 No                     No     Yes         >30       "
      ]
     },
     "metadata": {},
     "output_type": "display_data"
    }
   ],
   "source": [
    "## Set up directory and load libraries\n",
    "\n",
    "setwd(\"C:/Users/HerComputer/Desktop/DSC630Files\")\n",
    "library(caret)\n",
    "\n",
    "# Read in datafile for charts\n",
    "hospital_data <- read.csv('diabetic_data.csv', header=TRUE, stringsAsFactors=FALSE,\n",
    "                         na.strings=c(\"\",\"?\"))\n",
    "head(hospital_data)"
   ]
  },
  {
   "cell_type": "code",
   "execution_count": 2,
   "metadata": {},
   "outputs": [
    {
     "name": "stdout",
     "output_type": "stream",
     "text": [
      "'data.frame':\t101766 obs. of  50 variables:\n",
      " $ encounter_id            : int  2278392 149190 64410 500364 16680 35754 55842 63768 12522 15738 ...\n",
      " $ patient_nbr             : int  8222157 55629189 86047875 82442376 42519267 82637451 84259809 114882984 48330783 63555939 ...\n",
      " $ race                    : chr  \"Caucasian\" \"Caucasian\" \"AfricanAmerican\" \"Caucasian\" ...\n",
      " $ gender                  : chr  \"Female\" \"Female\" \"Female\" \"Male\" ...\n",
      " $ age                     : chr  \"[0-10)\" \"[10-20)\" \"[20-30)\" \"[30-40)\" ...\n",
      " $ weight                  : chr  NA NA NA NA ...\n",
      " $ admission_type_id       : int  6 1 1 1 1 2 3 1 2 3 ...\n",
      " $ discharge_disposition_id: int  25 1 1 1 1 1 1 1 1 3 ...\n",
      " $ admission_source_id     : int  1 7 7 7 7 2 2 7 4 4 ...\n",
      " $ time_in_hospital        : int  1 3 2 2 1 3 4 5 13 12 ...\n",
      " $ payer_code              : chr  NA NA NA NA ...\n",
      " $ medical_specialty       : chr  \"Pediatrics-Endocrinology\" NA NA NA ...\n",
      " $ num_lab_procedures      : int  41 59 11 44 51 31 70 73 68 33 ...\n",
      " $ num_procedures          : int  0 0 5 1 0 6 1 0 2 3 ...\n",
      " $ num_medications         : int  1 18 13 16 8 16 21 12 28 18 ...\n",
      " $ number_outpatient       : int  0 0 2 0 0 0 0 0 0 0 ...\n",
      " $ number_emergency        : int  0 0 0 0 0 0 0 0 0 0 ...\n",
      " $ number_inpatient        : int  0 0 1 0 0 0 0 0 0 0 ...\n",
      " $ diag_1                  : chr  \"250.83\" \"276\" \"648\" \"8\" ...\n",
      " $ diag_2                  : chr  NA \"250.01\" \"250\" \"250.43\" ...\n",
      " $ diag_3                  : chr  NA \"255\" \"V27\" \"403\" ...\n",
      " $ number_diagnoses        : int  1 9 6 7 5 9 7 8 8 8 ...\n",
      " $ max_glu_serum           : chr  \"None\" \"None\" \"None\" \"None\" ...\n",
      " $ A1Cresult               : chr  \"None\" \"None\" \"None\" \"None\" ...\n",
      " $ metformin               : chr  \"No\" \"No\" \"No\" \"No\" ...\n",
      " $ repaglinide             : chr  \"No\" \"No\" \"No\" \"No\" ...\n",
      " $ nateglinide             : chr  \"No\" \"No\" \"No\" \"No\" ...\n",
      " $ chlorpropamide          : chr  \"No\" \"No\" \"No\" \"No\" ...\n",
      " $ glimepiride             : chr  \"No\" \"No\" \"No\" \"No\" ...\n",
      " $ acetohexamide           : chr  \"No\" \"No\" \"No\" \"No\" ...\n",
      " $ glipizide               : chr  \"No\" \"No\" \"Steady\" \"No\" ...\n",
      " $ glyburide               : chr  \"No\" \"No\" \"No\" \"No\" ...\n",
      " $ tolbutamide             : chr  \"No\" \"No\" \"No\" \"No\" ...\n",
      " $ pioglitazone            : chr  \"No\" \"No\" \"No\" \"No\" ...\n",
      " $ rosiglitazone           : chr  \"No\" \"No\" \"No\" \"No\" ...\n",
      " $ acarbose                : chr  \"No\" \"No\" \"No\" \"No\" ...\n",
      " $ miglitol                : chr  \"No\" \"No\" \"No\" \"No\" ...\n",
      " $ troglitazone            : chr  \"No\" \"No\" \"No\" \"No\" ...\n",
      " $ tolazamide              : chr  \"No\" \"No\" \"No\" \"No\" ...\n",
      " $ examide                 : chr  \"No\" \"No\" \"No\" \"No\" ...\n",
      " $ citoglipton             : chr  \"No\" \"No\" \"No\" \"No\" ...\n",
      " $ insulin                 : chr  \"No\" \"Up\" \"No\" \"Up\" ...\n",
      " $ glyburide.metformin     : chr  \"No\" \"No\" \"No\" \"No\" ...\n",
      " $ glipizide.metformin     : chr  \"No\" \"No\" \"No\" \"No\" ...\n",
      " $ glimepiride.pioglitazone: chr  \"No\" \"No\" \"No\" \"No\" ...\n",
      " $ metformin.rosiglitazone : chr  \"No\" \"No\" \"No\" \"No\" ...\n",
      " $ metformin.pioglitazone  : chr  \"No\" \"No\" \"No\" \"No\" ...\n",
      " $ change                  : chr  \"No\" \"Ch\" \"No\" \"Ch\" ...\n",
      " $ diabetesMed             : chr  \"No\" \"Yes\" \"Yes\" \"Yes\" ...\n",
      " $ readmitted              : chr  \"NO\" \">30\" \"NO\" \"NO\" ...\n"
     ]
    },
    {
     "data": {
      "text/html": [
       "<ol class=list-inline>\n",
       "\t<li>101766</li>\n",
       "\t<li>50</li>\n",
       "</ol>\n"
      ],
      "text/latex": [
       "\\begin{enumerate*}\n",
       "\\item 101766\n",
       "\\item 50\n",
       "\\end{enumerate*}\n"
      ],
      "text/markdown": [
       "1. 101766\n",
       "2. 50\n",
       "\n",
       "\n"
      ],
      "text/plain": [
       "[1] 101766     50"
      ]
     },
     "metadata": {},
     "output_type": "display_data"
    }
   ],
   "source": [
    "# Quick evaluation of data\n",
    "str(hospital_data)\n",
    "dim(hospital_data)"
   ]
  },
  {
   "cell_type": "code",
   "execution_count": 3,
   "metadata": {},
   "outputs": [
    {
     "data": {
      "text/html": [
       "<ol class=list-inline>\n",
       "\t<li>73668</li>\n",
       "\t<li>50</li>\n",
       "</ol>\n"
      ],
      "text/latex": [
       "\\begin{enumerate*}\n",
       "\\item 73668\n",
       "\\item 50\n",
       "\\end{enumerate*}\n"
      ],
      "text/markdown": [
       "1. 73668\n",
       "2. 50\n",
       "\n",
       "\n"
      ],
      "text/plain": [
       "[1] 73668    50"
      ]
     },
     "metadata": {},
     "output_type": "display_data"
    }
   ],
   "source": [
    "# Keep only observations where patients were released home\n",
    "keep_discharge <- c(1,6,8,13,16,17)\n",
    "hospital_data <- subset(hospital_data, discharge_disposition_id %in% keep_discharge)\n",
    "dim(hospital_data)"
   ]
  },
  {
   "cell_type": "code",
   "execution_count": 4,
   "metadata": {},
   "outputs": [
    {
     "data": {
      "text/html": [
       "<ol class=list-inline>\n",
       "\t<li>73666</li>\n",
       "\t<li>50</li>\n",
       "</ol>\n"
      ],
      "text/latex": [
       "\\begin{enumerate*}\n",
       "\\item 73666\n",
       "\\item 50\n",
       "\\end{enumerate*}\n"
      ],
      "text/markdown": [
       "1. 73666\n",
       "2. 50\n",
       "\n",
       "\n"
      ],
      "text/plain": [
       "[1] 73666    50"
      ]
     },
     "metadata": {},
     "output_type": "display_data"
    }
   ],
   "source": [
    "# Keep only observations where patients answered gender question\n",
    "keep_gender <- c('Male', 'Female')\n",
    "hospital_data <- subset(hospital_data, gender %in% keep_gender)\n",
    "dim(hospital_data)"
   ]
  },
  {
   "cell_type": "code",
   "execution_count": 5,
   "metadata": {},
   "outputs": [
    {
     "data": {
      "text/html": [
       "11"
      ],
      "text/latex": [
       "11"
      ],
      "text/markdown": [
       "11"
      ],
      "text/plain": [
       "[1] 11"
      ]
     },
     "metadata": {},
     "output_type": "display_data"
    }
   ],
   "source": [
    "# Make sure all observations have a diagnosis code\n",
    "sum(is.na(hospital_data$diag_1))"
   ]
  },
  {
   "cell_type": "code",
   "execution_count": 6,
   "metadata": {},
   "outputs": [
    {
     "data": {
      "text/html": [
       "0"
      ],
      "text/latex": [
       "0"
      ],
      "text/markdown": [
       "0"
      ],
      "text/plain": [
       "[1] 0"
      ]
     },
     "metadata": {},
     "output_type": "display_data"
    }
   ],
   "source": [
    "# Drop any observations without a diagnosis code\n",
    "hospital_data <- subset(hospital_data, !is.na(diag_1))\n",
    "sum(is.na(hospital_data$diag_1))"
   ]
  },
  {
   "cell_type": "code",
   "execution_count": 7,
   "metadata": {},
   "outputs": [
    {
     "data": {
      "text/html": [
       "<table>\n",
       "<thead><tr><th></th><th scope=col>encounter_id</th><th scope=col>patient_nbr</th><th scope=col>race</th><th scope=col>gender</th><th scope=col>age</th><th scope=col>weight</th><th scope=col>admission_type_id</th><th scope=col>discharge_disposition_id</th><th scope=col>admission_source_id</th><th scope=col>time_in_hospital</th><th scope=col>...</th><th scope=col>citoglipton</th><th scope=col>insulin</th><th scope=col>glyburide.metformin</th><th scope=col>glipizide.metformin</th><th scope=col>glimepiride.pioglitazone</th><th scope=col>metformin.rosiglitazone</th><th scope=col>metformin.pioglitazone</th><th scope=col>change</th><th scope=col>diabetesMed</th><th scope=col>readmitted</th></tr></thead>\n",
       "<tbody>\n",
       "\t<tr><th scope=row>2</th><td>149190         </td><td>55629189       </td><td>Caucasian      </td><td>Female         </td><td>[10-20)        </td><td>NA             </td><td>1              </td><td>1              </td><td>7              </td><td>3              </td><td>...            </td><td>No             </td><td>Up             </td><td>No             </td><td>No             </td><td>No             </td><td>No             </td><td>No             </td><td>Ch             </td><td>Yes            </td><td>0              </td></tr>\n",
       "\t<tr><th scope=row>3</th><td> 64410         </td><td>86047875       </td><td>AfricanAmerican</td><td>Female         </td><td>[20-30)        </td><td>NA             </td><td>1              </td><td>1              </td><td>7              </td><td>2              </td><td>...            </td><td>No             </td><td>No             </td><td>No             </td><td>No             </td><td>No             </td><td>No             </td><td>No             </td><td>No             </td><td>Yes            </td><td>0              </td></tr>\n",
       "\t<tr><th scope=row>4</th><td>500364         </td><td>82442376       </td><td>Caucasian      </td><td>Male           </td><td>[30-40)        </td><td>NA             </td><td>1              </td><td>1              </td><td>7              </td><td>2              </td><td>...            </td><td>No             </td><td>Up             </td><td>No             </td><td>No             </td><td>No             </td><td>No             </td><td>No             </td><td>Ch             </td><td>Yes            </td><td>0              </td></tr>\n",
       "\t<tr><th scope=row>5</th><td> 16680         </td><td>42519267       </td><td>Caucasian      </td><td>Male           </td><td>[40-50)        </td><td>NA             </td><td>1              </td><td>1              </td><td>7              </td><td>1              </td><td>...            </td><td>No             </td><td>Steady         </td><td>No             </td><td>No             </td><td>No             </td><td>No             </td><td>No             </td><td>Ch             </td><td>Yes            </td><td>0              </td></tr>\n",
       "\t<tr><th scope=row>6</th><td> 35754         </td><td>82637451       </td><td>Caucasian      </td><td>Male           </td><td>[50-60)        </td><td>NA             </td><td>2              </td><td>1              </td><td>2              </td><td>3              </td><td>...            </td><td>No             </td><td>Steady         </td><td>No             </td><td>No             </td><td>No             </td><td>No             </td><td>No             </td><td>No             </td><td>Yes            </td><td>0              </td></tr>\n",
       "\t<tr><th scope=row>7</th><td> 55842         </td><td>84259809       </td><td>Caucasian      </td><td>Male           </td><td>[60-70)        </td><td>NA             </td><td>3              </td><td>1              </td><td>2              </td><td>4              </td><td>...            </td><td>No             </td><td>Steady         </td><td>No             </td><td>No             </td><td>No             </td><td>No             </td><td>No             </td><td>Ch             </td><td>Yes            </td><td>0              </td></tr>\n",
       "</tbody>\n",
       "</table>\n"
      ],
      "text/latex": [
       "\\begin{tabular}{r|llllllllllllllllllllllllllllllllllllllllllllllllll}\n",
       "  & encounter\\_id & patient\\_nbr & race & gender & age & weight & admission\\_type\\_id & discharge\\_disposition\\_id & admission\\_source\\_id & time\\_in\\_hospital & ... & citoglipton & insulin & glyburide.metformin & glipizide.metformin & glimepiride.pioglitazone & metformin.rosiglitazone & metformin.pioglitazone & change & diabetesMed & readmitted\\\\\n",
       "\\hline\n",
       "\t2 & 149190          & 55629189        & Caucasian       & Female          & {[}10-20)       & NA              & 1               & 1               & 7               & 3               & ...             & No              & Up              & No              & No              & No              & No              & No              & Ch              & Yes             & 0              \\\\\n",
       "\t3 &  64410          & 86047875        & AfricanAmerican & Female          & {[}20-30)       & NA              & 1               & 1               & 7               & 2               & ...             & No              & No              & No              & No              & No              & No              & No              & No              & Yes             & 0              \\\\\n",
       "\t4 & 500364          & 82442376        & Caucasian       & Male            & {[}30-40)       & NA              & 1               & 1               & 7               & 2               & ...             & No              & Up              & No              & No              & No              & No              & No              & Ch              & Yes             & 0              \\\\\n",
       "\t5 &  16680          & 42519267        & Caucasian       & Male            & {[}40-50)       & NA              & 1               & 1               & 7               & 1               & ...             & No              & Steady          & No              & No              & No              & No              & No              & Ch              & Yes             & 0              \\\\\n",
       "\t6 &  35754          & 82637451        & Caucasian       & Male            & {[}50-60)       & NA              & 2               & 1               & 2               & 3               & ...             & No              & Steady          & No              & No              & No              & No              & No              & No              & Yes             & 0              \\\\\n",
       "\t7 &  55842          & 84259809        & Caucasian       & Male            & {[}60-70)       & NA              & 3               & 1               & 2               & 4               & ...             & No              & Steady          & No              & No              & No              & No              & No              & Ch              & Yes             & 0              \\\\\n",
       "\\end{tabular}\n"
      ],
      "text/markdown": [
       "\n",
       "| <!--/--> | encounter_id | patient_nbr | race | gender | age | weight | admission_type_id | discharge_disposition_id | admission_source_id | time_in_hospital | ... | citoglipton | insulin | glyburide.metformin | glipizide.metformin | glimepiride.pioglitazone | metformin.rosiglitazone | metformin.pioglitazone | change | diabetesMed | readmitted |\n",
       "|---|---|---|---|---|---|---|---|---|---|---|---|---|---|---|---|---|---|---|---|---|---|\n",
       "| 2 | 149190          | 55629189        | Caucasian       | Female          | [10-20)         | NA              | 1               | 1               | 7               | 3               | ...             | No              | Up              | No              | No              | No              | No              | No              | Ch              | Yes             | 0               |\n",
       "| 3 |  64410          | 86047875        | AfricanAmerican | Female          | [20-30)         | NA              | 1               | 1               | 7               | 2               | ...             | No              | No              | No              | No              | No              | No              | No              | No              | Yes             | 0               |\n",
       "| 4 | 500364          | 82442376        | Caucasian       | Male            | [30-40)         | NA              | 1               | 1               | 7               | 2               | ...             | No              | Up              | No              | No              | No              | No              | No              | Ch              | Yes             | 0               |\n",
       "| 5 |  16680          | 42519267        | Caucasian       | Male            | [40-50)         | NA              | 1               | 1               | 7               | 1               | ...             | No              | Steady          | No              | No              | No              | No              | No              | Ch              | Yes             | 0               |\n",
       "| 6 |  35754          | 82637451        | Caucasian       | Male            | [50-60)         | NA              | 2               | 1               | 2               | 3               | ...             | No              | Steady          | No              | No              | No              | No              | No              | No              | Yes             | 0               |\n",
       "| 7 |  55842          | 84259809        | Caucasian       | Male            | [60-70)         | NA              | 3               | 1               | 2               | 4               | ...             | No              | Steady          | No              | No              | No              | No              | No              | Ch              | Yes             | 0               |\n",
       "\n"
      ],
      "text/plain": [
       "  encounter_id patient_nbr race            gender age     weight\n",
       "2 149190       55629189    Caucasian       Female [10-20) NA    \n",
       "3  64410       86047875    AfricanAmerican Female [20-30) NA    \n",
       "4 500364       82442376    Caucasian       Male   [30-40) NA    \n",
       "5  16680       42519267    Caucasian       Male   [40-50) NA    \n",
       "6  35754       82637451    Caucasian       Male   [50-60) NA    \n",
       "7  55842       84259809    Caucasian       Male   [60-70) NA    \n",
       "  admission_type_id discharge_disposition_id admission_source_id\n",
       "2 1                 1                        7                  \n",
       "3 1                 1                        7                  \n",
       "4 1                 1                        7                  \n",
       "5 1                 1                        7                  \n",
       "6 2                 1                        2                  \n",
       "7 3                 1                        2                  \n",
       "  time_in_hospital ... citoglipton insulin glyburide.metformin\n",
       "2 3                ... No          Up      No                 \n",
       "3 2                ... No          No      No                 \n",
       "4 2                ... No          Up      No                 \n",
       "5 1                ... No          Steady  No                 \n",
       "6 3                ... No          Steady  No                 \n",
       "7 4                ... No          Steady  No                 \n",
       "  glipizide.metformin glimepiride.pioglitazone metformin.rosiglitazone\n",
       "2 No                  No                       No                     \n",
       "3 No                  No                       No                     \n",
       "4 No                  No                       No                     \n",
       "5 No                  No                       No                     \n",
       "6 No                  No                       No                     \n",
       "7 No                  No                       No                     \n",
       "  metformin.pioglitazone change diabetesMed readmitted\n",
       "2 No                     Ch     Yes         0         \n",
       "3 No                     No     Yes         0         \n",
       "4 No                     Ch     Yes         0         \n",
       "5 No                     Ch     Yes         0         \n",
       "6 No                     No     Yes         0         \n",
       "7 No                     Ch     Yes         0         "
      ]
     },
     "metadata": {},
     "output_type": "display_data"
    }
   ],
   "source": [
    "# Convert readmitted (target variable) to 0/1\n",
    "hospital_data['readmitted'][hospital_data['readmitted'] == 'NO'] <- '0'\n",
    "hospital_data['readmitted'][hospital_data['readmitted'] == '>30'] <- '0'\n",
    "hospital_data['readmitted'][hospital_data['readmitted'] == '<30'] <- '1'\n",
    "head(hospital_data)"
   ]
  },
  {
   "cell_type": "code",
   "execution_count": 8,
   "metadata": {},
   "outputs": [
    {
     "data": {
      "text/html": [
       "0"
      ],
      "text/latex": [
       "0"
      ],
      "text/markdown": [
       "0"
      ],
      "text/plain": [
       "[1] 0"
      ]
     },
     "metadata": {},
     "output_type": "display_data"
    }
   ],
   "source": [
    "# Make sure there are no N/A values for readmitted\n",
    "sum(is.na(hospital_data$readmitted))"
   ]
  },
  {
   "cell_type": "code",
   "execution_count": 9,
   "metadata": {},
   "outputs": [
    {
     "data": {
      "text/html": [
       "137739"
      ],
      "text/latex": [
       "137739"
      ],
      "text/markdown": [
       "137739"
      ],
      "text/plain": [
       "[1] 137739"
      ]
     },
     "metadata": {},
     "output_type": "display_data"
    }
   ],
   "source": [
    "# Check how many na values are in data\n",
    "sum(is.na(hospital_data))"
   ]
  },
  {
   "cell_type": "code",
   "execution_count": 10,
   "metadata": {},
   "outputs": [
    {
     "data": {
      "text/html": [
       "0"
      ],
      "text/latex": [
       "0"
      ],
      "text/markdown": [
       "0"
      ],
      "text/plain": [
       "[1] 0"
      ]
     },
     "metadata": {},
     "output_type": "display_data"
    }
   ],
   "source": [
    "# Replace all na with 0\n",
    "hospital_data[is.na(hospital_data)] <- 0\n",
    "sum(is.na(hospital_data))"
   ]
  },
  {
   "cell_type": "code",
   "execution_count": 11,
   "metadata": {},
   "outputs": [
    {
     "data": {
      "text/html": [
       "<table>\n",
       "<thead><tr><th></th><th scope=col>encounter_id</th><th scope=col>patient_nbr</th><th scope=col>race</th><th scope=col>gender</th><th scope=col>age</th><th scope=col>weight</th><th scope=col>admission_type_id</th><th scope=col>discharge_disposition_id</th><th scope=col>admission_source_id</th><th scope=col>time_in_hospital</th><th scope=col>...</th><th scope=col>citoglipton</th><th scope=col>insulin</th><th scope=col>glyburide.metformin</th><th scope=col>glipizide.metformin</th><th scope=col>glimepiride.pioglitazone</th><th scope=col>metformin.rosiglitazone</th><th scope=col>metformin.pioglitazone</th><th scope=col>change</th><th scope=col>diabetesMed</th><th scope=col>readmitted</th></tr></thead>\n",
       "<tbody>\n",
       "\t<tr><th scope=row>2</th><td>149190         </td><td>55629189       </td><td>Caucasian      </td><td>Female         </td><td>[10-20)        </td><td>0              </td><td>1              </td><td>1              </td><td>7              </td><td>3              </td><td>...            </td><td>No             </td><td>1              </td><td>1              </td><td>1              </td><td>1              </td><td>1              </td><td>1              </td><td>Ch             </td><td>Yes            </td><td>0              </td></tr>\n",
       "\t<tr><th scope=row>3</th><td> 64410         </td><td>86047875       </td><td>AfricanAmerican</td><td>Female         </td><td>[20-30)        </td><td>0              </td><td>1              </td><td>1              </td><td>7              </td><td>2              </td><td>...            </td><td>No             </td><td>1              </td><td>1              </td><td>1              </td><td>1              </td><td>1              </td><td>1              </td><td>No             </td><td>Yes            </td><td>0              </td></tr>\n",
       "\t<tr><th scope=row>4</th><td>500364         </td><td>82442376       </td><td>Caucasian      </td><td>Male           </td><td>[30-40)        </td><td>0              </td><td>1              </td><td>1              </td><td>7              </td><td>2              </td><td>...            </td><td>No             </td><td>1              </td><td>1              </td><td>1              </td><td>1              </td><td>1              </td><td>1              </td><td>Ch             </td><td>Yes            </td><td>0              </td></tr>\n",
       "\t<tr><th scope=row>5</th><td> 16680         </td><td>42519267       </td><td>Caucasian      </td><td>Male           </td><td>[40-50)        </td><td>0              </td><td>1              </td><td>1              </td><td>7              </td><td>1              </td><td>...            </td><td>No             </td><td>1              </td><td>1              </td><td>1              </td><td>1              </td><td>1              </td><td>1              </td><td>Ch             </td><td>Yes            </td><td>0              </td></tr>\n",
       "\t<tr><th scope=row>6</th><td> 35754         </td><td>82637451       </td><td>Caucasian      </td><td>Male           </td><td>[50-60)        </td><td>0              </td><td>2              </td><td>1              </td><td>2              </td><td>3              </td><td>...            </td><td>No             </td><td>1              </td><td>1              </td><td>1              </td><td>1              </td><td>1              </td><td>1              </td><td>No             </td><td>Yes            </td><td>0              </td></tr>\n",
       "\t<tr><th scope=row>7</th><td> 55842         </td><td>84259809       </td><td>Caucasian      </td><td>Male           </td><td>[60-70)        </td><td>0              </td><td>3              </td><td>1              </td><td>2              </td><td>4              </td><td>...            </td><td>No             </td><td>1              </td><td>1              </td><td>1              </td><td>1              </td><td>1              </td><td>1              </td><td>Ch             </td><td>Yes            </td><td>0              </td></tr>\n",
       "</tbody>\n",
       "</table>\n"
      ],
      "text/latex": [
       "\\begin{tabular}{r|llllllllllllllllllllllllllllllllllllllllllllllllll}\n",
       "  & encounter\\_id & patient\\_nbr & race & gender & age & weight & admission\\_type\\_id & discharge\\_disposition\\_id & admission\\_source\\_id & time\\_in\\_hospital & ... & citoglipton & insulin & glyburide.metformin & glipizide.metformin & glimepiride.pioglitazone & metformin.rosiglitazone & metformin.pioglitazone & change & diabetesMed & readmitted\\\\\n",
       "\\hline\n",
       "\t2 & 149190          & 55629189        & Caucasian       & Female          & {[}10-20)       & 0               & 1               & 1               & 7               & 3               & ...             & No              & 1               & 1               & 1               & 1               & 1               & 1               & Ch              & Yes             & 0              \\\\\n",
       "\t3 &  64410          & 86047875        & AfricanAmerican & Female          & {[}20-30)       & 0               & 1               & 1               & 7               & 2               & ...             & No              & 1               & 1               & 1               & 1               & 1               & 1               & No              & Yes             & 0              \\\\\n",
       "\t4 & 500364          & 82442376        & Caucasian       & Male            & {[}30-40)       & 0               & 1               & 1               & 7               & 2               & ...             & No              & 1               & 1               & 1               & 1               & 1               & 1               & Ch              & Yes             & 0              \\\\\n",
       "\t5 &  16680          & 42519267        & Caucasian       & Male            & {[}40-50)       & 0               & 1               & 1               & 7               & 1               & ...             & No              & 1               & 1               & 1               & 1               & 1               & 1               & Ch              & Yes             & 0              \\\\\n",
       "\t6 &  35754          & 82637451        & Caucasian       & Male            & {[}50-60)       & 0               & 2               & 1               & 2               & 3               & ...             & No              & 1               & 1               & 1               & 1               & 1               & 1               & No              & Yes             & 0              \\\\\n",
       "\t7 &  55842          & 84259809        & Caucasian       & Male            & {[}60-70)       & 0               & 3               & 1               & 2               & 4               & ...             & No              & 1               & 1               & 1               & 1               & 1               & 1               & Ch              & Yes             & 0              \\\\\n",
       "\\end{tabular}\n"
      ],
      "text/markdown": [
       "\n",
       "| <!--/--> | encounter_id | patient_nbr | race | gender | age | weight | admission_type_id | discharge_disposition_id | admission_source_id | time_in_hospital | ... | citoglipton | insulin | glyburide.metformin | glipizide.metformin | glimepiride.pioglitazone | metformin.rosiglitazone | metformin.pioglitazone | change | diabetesMed | readmitted |\n",
       "|---|---|---|---|---|---|---|---|---|---|---|---|---|---|---|---|---|---|---|---|---|---|\n",
       "| 2 | 149190          | 55629189        | Caucasian       | Female          | [10-20)         | 0               | 1               | 1               | 7               | 3               | ...             | No              | 1               | 1               | 1               | 1               | 1               | 1               | Ch              | Yes             | 0               |\n",
       "| 3 |  64410          | 86047875        | AfricanAmerican | Female          | [20-30)         | 0               | 1               | 1               | 7               | 2               | ...             | No              | 1               | 1               | 1               | 1               | 1               | 1               | No              | Yes             | 0               |\n",
       "| 4 | 500364          | 82442376        | Caucasian       | Male            | [30-40)         | 0               | 1               | 1               | 7               | 2               | ...             | No              | 1               | 1               | 1               | 1               | 1               | 1               | Ch              | Yes             | 0               |\n",
       "| 5 |  16680          | 42519267        | Caucasian       | Male            | [40-50)         | 0               | 1               | 1               | 7               | 1               | ...             | No              | 1               | 1               | 1               | 1               | 1               | 1               | Ch              | Yes             | 0               |\n",
       "| 6 |  35754          | 82637451        | Caucasian       | Male            | [50-60)         | 0               | 2               | 1               | 2               | 3               | ...             | No              | 1               | 1               | 1               | 1               | 1               | 1               | No              | Yes             | 0               |\n",
       "| 7 |  55842          | 84259809        | Caucasian       | Male            | [60-70)         | 0               | 3               | 1               | 2               | 4               | ...             | No              | 1               | 1               | 1               | 1               | 1               | 1               | Ch              | Yes             | 0               |\n",
       "\n"
      ],
      "text/plain": [
       "  encounter_id patient_nbr race            gender age     weight\n",
       "2 149190       55629189    Caucasian       Female [10-20) 0     \n",
       "3  64410       86047875    AfricanAmerican Female [20-30) 0     \n",
       "4 500364       82442376    Caucasian       Male   [30-40) 0     \n",
       "5  16680       42519267    Caucasian       Male   [40-50) 0     \n",
       "6  35754       82637451    Caucasian       Male   [50-60) 0     \n",
       "7  55842       84259809    Caucasian       Male   [60-70) 0     \n",
       "  admission_type_id discharge_disposition_id admission_source_id\n",
       "2 1                 1                        7                  \n",
       "3 1                 1                        7                  \n",
       "4 1                 1                        7                  \n",
       "5 1                 1                        7                  \n",
       "6 2                 1                        2                  \n",
       "7 3                 1                        2                  \n",
       "  time_in_hospital ... citoglipton insulin glyburide.metformin\n",
       "2 3                ... No          1       1                  \n",
       "3 2                ... No          1       1                  \n",
       "4 2                ... No          1       1                  \n",
       "5 1                ... No          1       1                  \n",
       "6 3                ... No          1       1                  \n",
       "7 4                ... No          1       1                  \n",
       "  glipizide.metformin glimepiride.pioglitazone metformin.rosiglitazone\n",
       "2 1                   1                        1                      \n",
       "3 1                   1                        1                      \n",
       "4 1                   1                        1                      \n",
       "5 1                   1                        1                      \n",
       "6 1                   1                        1                      \n",
       "7 1                   1                        1                      \n",
       "  metformin.pioglitazone change diabetesMed readmitted\n",
       "2 1                      Ch     Yes         0         \n",
       "3 1                      No     Yes         0         \n",
       "4 1                      Ch     Yes         0         \n",
       "5 1                      Ch     Yes         0         \n",
       "6 1                      No     Yes         0         \n",
       "7 1                      Ch     Yes         0         "
      ]
     },
     "metadata": {},
     "output_type": "display_data"
    }
   ],
   "source": [
    "# On all medicines, only need to know if patient is taking it or not\n",
    "# Change in dose is being treated as irrelevant\n",
    "med_cols = c('metformin', 'repaglinide', 'nateglinide', 'chlorpropamide', 'glimepiride', \n",
    "            'acetohexamide', 'glipizide', 'glyburide', 'tolbutamide', 'pioglitazone',\n",
    "            'rosiglitazone', 'acarbose', 'miglitol', 'troglitazone', 'tolazamide',\n",
    "            'insulin', 'glyburide.metformin', 'glipizide.metformin', 'glimepiride.pioglitazone',\n",
    "            'metformin.rosiglitazone', 'metformin.pioglitazone')\n",
    "\n",
    "for (i in med_cols) {\n",
    "    hospital_data[[i]][hospital_data[[i]] == 'Steady'] <- '1'\n",
    "    hospital_data[[i]][hospital_data[[i]] == 'Up'] <- '1'\n",
    "    hospital_data[[i]][hospital_data[[i]] == 'Down'] <- '1'\n",
    "    hospital_data[[i]][hospital_data[[i]] == 'No'] <- '1'\n",
    "}\n",
    "\n",
    "head(hospital_data)"
   ]
  },
  {
   "cell_type": "code",
   "execution_count": 12,
   "metadata": {},
   "outputs": [
    {
     "data": {
      "text/html": [
       "<ol class=list-inline>\n",
       "\t<li>58925</li>\n",
       "\t<li>50</li>\n",
       "</ol>\n"
      ],
      "text/latex": [
       "\\begin{enumerate*}\n",
       "\\item 58925\n",
       "\\item 50\n",
       "\\end{enumerate*}\n"
      ],
      "text/markdown": [
       "1. 58925\n",
       "2. 50\n",
       "\n",
       "\n"
      ],
      "text/plain": [
       "[1] 58925    50"
      ]
     },
     "metadata": {},
     "output_type": "display_data"
    },
    {
     "data": {
      "text/plain": [
       "\n",
       "        0         1 \n",
       "90.124735  9.875265 "
      ]
     },
     "metadata": {},
     "output_type": "display_data"
    },
    {
     "data": {
      "text/html": [
       "<ol class=list-inline>\n",
       "\t<li>14730</li>\n",
       "\t<li>50</li>\n",
       "</ol>\n"
      ],
      "text/latex": [
       "\\begin{enumerate*}\n",
       "\\item 14730\n",
       "\\item 50\n",
       "\\end{enumerate*}\n"
      ],
      "text/markdown": [
       "1. 14730\n",
       "2. 50\n",
       "\n",
       "\n"
      ],
      "text/plain": [
       "[1] 14730    50"
      ]
     },
     "metadata": {},
     "output_type": "display_data"
    },
    {
     "data": {
      "text/plain": [
       "\n",
       "        0         1 \n",
       "90.128988  9.871012 "
      ]
     },
     "metadata": {},
     "output_type": "display_data"
    }
   ],
   "source": [
    "# Separate into training and testing\n",
    "inTraining <- createDataPartition(hospital_data$readmitted, p = .80, list = FALSE)\n",
    "training_data <- hospital_data[inTraining,]\n",
    "training_x <- subset(training_data, select = -readmitted)\n",
    "training_y <- training_data$readmitted\n",
    "testing_data <- hospital_data[-inTraining,]\n",
    "testing_x <- subset(testing_data, select = -readmitted)\n",
    "testing_y <- testing_data$readmitted\n",
    "\n",
    "# Check that training and testing data is balanced\n",
    "training_percentages <- 100*(table(training_data$readmitted)/length(training_data$readmitted))\n",
    "testing_percentages <- 100*(table(testing_data$readmitted)/length(testing_data$readmitted))\n",
    "\n",
    "dim(training_data)\n",
    "training_percentages\n",
    "\n",
    "dim(testing_data)\n",
    "testing_percentages"
   ]
  },
  {
   "cell_type": "code",
   "execution_count": 13,
   "metadata": {},
   "outputs": [],
   "source": [
    "# Save data to files for Python to read in\n",
    "\n",
    "write.csv(training_data, 'train_data.csv', row.names=FALSE)\n",
    "write.csv(testing_data, 'test_data.csv', row.names=FALSE)"
   ]
  },
  {
   "cell_type": "code",
   "execution_count": null,
   "metadata": {},
   "outputs": [],
   "source": []
  }
 ],
 "metadata": {
  "kernelspec": {
   "display_name": "R",
   "language": "R",
   "name": "ir"
  },
  "language_info": {
   "codemirror_mode": "r",
   "file_extension": ".r",
   "mimetype": "text/x-r-source",
   "name": "R",
   "pygments_lexer": "r",
   "version": "3.6.1"
  }
 },
 "nbformat": 4,
 "nbformat_minor": 4
}
